{
  "nbformat": 4,
  "nbformat_minor": 0,
  "metadata": {
    "colab": {
      "name": "QUIZ.ipynb",
      "provenance": [],
      "collapsed_sections": [],
      "authorship_tag": "ABX9TyPG+TUeCEo8a3WBmpvILmup",
      "include_colab_link": true
    },
    "kernelspec": {
      "name": "python3",
      "display_name": "Python 3"
    }
  },
  "cells": [
    {
      "cell_type": "markdown",
      "metadata": {
        "id": "view-in-github",
        "colab_type": "text"
      },
      "source": [
        "<a href=\"https://colab.research.google.com/github/mounikatarigopula/BigData/blob/main/QUIZ.ipynb\" target=\"_parent\"><img src=\"https://colab.research.google.com/assets/colab-badge.svg\" alt=\"Open In Colab\"/></a>"
      ]
    },
    {
      "cell_type": "code",
      "metadata": {
        "id": "8NlHxpgeVKRM"
      },
      "source": [
        "from sympy import mod_inverse\n",
        "import hashlib\n",
        "import os"
      ],
      "execution_count": null,
      "outputs": []
    },
    {
      "cell_type": "code",
      "metadata": {
        "id": "eRcQxTVSXwfd"
      },
      "source": [
        "p=112481050639317229656723018120659623829736571015511322021617837187076258724819\n",
        "q=89185111938335771293328323333111422985697062149139368049232365065924632677343\n",
        "e = 65537"
      ],
      "execution_count": null,
      "outputs": []
    },
    {
      "cell_type": "code",
      "metadata": {
        "colab": {
          "base_uri": "https://localhost:8080/"
        },
        "id": "q31STDKXVg0c",
        "outputId": "7c8c402a-2a47-41c2-c44e-397a4ef47b99"
      },
      "source": [
        "# Compute N (public key with e)\n",
        "\n",
        "n = p * q\n",
        "print(n)"
      ],
      "execution_count": null,
      "outputs": [
        {
          "output_type": "stream",
          "text": [
            "10031635092209121498674987861649022163771061565130441373555584537047455688991931937563110507506652959265182705476941444174840580049331773111276155053075917\n"
          ],
          "name": "stdout"
        }
      ]
    },
    {
      "cell_type": "code",
      "metadata": {
        "colab": {
          "base_uri": "https://localhost:8080/"
        },
        "id": "QdKMalMqVg3K",
        "outputId": "4f74e06a-7a66-47f0-aec7-ca67b6925b82"
      },
      "source": [
        "# FIND PRIVATE KEY d\n",
        "\n",
        "d = mod_inverse(e, (p - 1) * (q - 1))\n",
        "print(d)"
      ],
      "execution_count": null,
      "outputs": [
        {
          "output_type": "stream",
          "text": [
            "6886694454027199678759881881737814611139109676622117091683160716943132564863007715345245794849719693156483947830169207322284232384798025277322134502462181\n"
          ],
          "name": "stdout"
        }
      ]
    },
    {
      "cell_type": "code",
      "metadata": {
        "colab": {
          "base_uri": "https://localhost:8080/"
        },
        "id": "YkSSI-cCVg6A",
        "outputId": "a45eb8f5-f757-403a-9dcc-d0011687a9f1"
      },
      "source": [
        "## Part 2: Encrypt the Message\n",
        "\n",
        "message = \"Running late. Wait for me.\"\n",
        "print(message)\n",
        "# this is the plaintext message we want to send.\n",
        "\n",
        "# First, we transform m into a number.\n",
        "m = int.from_bytes(message.encode('utf-8'), \"big\")  # message.encode converts the string into bytes using the utf-8\n",
        "# encoding. int.from_bytes converts a number from bytes to integer. 'big' means that the most significant byte is at\n",
        "# the beginning  (search MSByte for more info)\n",
        "print(m)\n",
        "c = pow(m, e, n)\n",
        "print(c)\n"
      ],
      "execution_count": null,
      "outputs": [
        {
          "output_type": "stream",
          "text": [
            "Running late. Wait for me.\n",
            "132506048299782729601861890795689101374996562756163152523388206\n",
            "5628730804056595371855684110576266781276706571005479901402626056646581913671537162886477174980769106939051646161443333500500835847610834908579566064478525\n"
          ],
          "name": "stdout"
        }
      ]
    },
    {
      "cell_type": "code",
      "metadata": {
        "colab": {
          "base_uri": "https://localhost:8080/"
        },
        "id": "SxdWTikhVg8i",
        "outputId": "3c600e47-f970-4b66-d761-a218f9e23d0d"
      },
      "source": [
        "#### PART 3: Decrypt the Message\n",
        "\n",
        "c = 9029727923340384868426518880554167882611943065703927838617521515742066859974885947494642963883568408240430125599636824996577080116022919050269017033777667\n",
        "m3 = pow(c, d, n)\n",
        "\n",
        "m3_bytes = m3.to_bytes((m3.bit_length() + 7) // 8, 'big')  # the function x.to_bytes needs to now how long the bit\n",
        "# length should be, and where the MSByte is (\"big\").\n",
        "\n",
        "# Now that the m3 is in bytes, we can decode it into string.\n",
        "message3 = m3_bytes.decode()\n",
        "print(message3)\n"
      ],
      "execution_count": null,
      "outputs": [
        {
          "output_type": "stream",
          "text": [
            "Congrats! You just decrypted your first message!\n"
          ],
          "name": "stdout"
        }
      ]
    },
    {
      "cell_type": "code",
      "metadata": {
        "colab": {
          "base_uri": "https://localhost:8080/"
        },
        "id": "LUzjCmCIVg_T",
        "outputId": "80f92ab6-16a1-4eca-a190-4d4bfa3f5422"
      },
      "source": [
        "##Part4: Sign a Message\n",
        "#Hash the msg\n",
        "m = hashlib.sha256(b\"Congrats! You just decrypted your first message!\").hexdigest()\n",
        "print(m)\n",
        "msg_sign = int.from_bytes(m.encode('utf-8'), \"big\")\n",
        "print(msg_sign)\n",
        "sign = pow(msg_sign, d, n)\n",
        "print(sign)"
      ],
      "execution_count": null,
      "outputs": [
        {
          "output_type": "stream",
          "text": [
            "c98b86cf748ca732199bbafb5bca1ac2db34416b198bf3906c6cf3bb19e2c015\n",
            "5196757236952167220763533464276920932199772536270749930947313681585064170024490586392502408018385385327118416752669008082891762309836988228207000058605877\n",
            "3141272798217254437841732019283821297853765608850884890749159341487650279071377864998607585732045317788354363036712706102305523253064683707241033589893839\n"
          ],
          "name": "stdout"
        }
      ]
    },
    {
      "cell_type": "code",
      "metadata": {
        "colab": {
          "base_uri": "https://localhost:8080/"
        },
        "id": "Acpv993wVhBe",
        "outputId": "e6bad664-8ef8-47c3-8b1c-8a96012c8801"
      },
      "source": [
        "### Verify the Sign Message\n",
        "v = pow(sign,e,n)\n",
        "print(v)\n",
        "v_bytes = v.to_bytes((v.bit_length() + 7) // 8, 'big') \n",
        "message = v_bytes.decode()\n",
        "print(message)\n"
      ],
      "execution_count": null,
      "outputs": [
        {
          "output_type": "stream",
          "text": [
            "5196757236952167220763533464276920932199772536270749930947313681585064170024490586392502408018385385327118416752669008082891762309836988228207000058605877\n",
            "c98b86cf748ca732199bbafb5bca1ac2db34416b198bf3906c6cf3bb19e2c015\n"
          ],
          "name": "stdout"
        }
      ]
    },
    {
      "cell_type": "code",
      "metadata": {
        "id": "KTWcLOhEVhD7"
      },
      "source": [
        ""
      ],
      "execution_count": null,
      "outputs": []
    },
    {
      "cell_type": "code",
      "metadata": {
        "id": "7ypqXDjxXvNv"
      },
      "source": [
        ""
      ],
      "execution_count": null,
      "outputs": []
    }
  ]
}